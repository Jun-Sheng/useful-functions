{
 "cells": [
  {
   "cell_type": "code",
   "execution_count": 69,
   "metadata": {},
   "outputs": [
    {
     "name": "stdout",
     "output_type": "stream",
     "text": [
      "some of the strings found in sentence\n"
     ]
    }
   ],
   "source": [
    "# https://stackoverflow.com/questions/3389574/check-if-multiple-strings-exist-in-another-string\n",
    "lista = ['four', 'five', 'six', 'three']\n",
    "listb = ['nothing']\n",
    "sentence = 'some onelong two phrase three three sixes'\n",
    "\n",
    "if any(word in sentence for word in lista):\n",
    "    print(\"some of the strings found in sentence\")\n",
    "else:\n",
    "    print(\"no strings found in sentence\")"
   ]
  },
  {
   "cell_type": "code",
   "execution_count": 70,
   "metadata": {},
   "outputs": [
    {
     "data": {
      "text/plain": [
       "'six'"
      ]
     },
     "execution_count": 70,
     "metadata": {},
     "output_type": "execute_result"
    }
   ],
   "source": [
    "# If you want the first match (with False as a default):\n",
    "match = next((word for word in lista if word in sentence), False)\n",
    "match"
   ]
  },
  {
   "cell_type": "code",
   "execution_count": 71,
   "metadata": {},
   "outputs": [
    {
     "name": "stdout",
     "output_type": "stream",
     "text": [
      "['six', 'three']\n",
      "[]\n"
     ]
    }
   ],
   "source": [
    "# If you want to get all matches (including duplicates):\n",
    "matches = [word for word in lista if word in sentence]\n",
    "print(matches)\n",
    "\n",
    "matches2 = [word for word in listb if word in sentence]\n",
    "print(matches2)"
   ]
  },
  {
   "cell_type": "code",
   "execution_count": 72,
   "metadata": {},
   "outputs": [
    {
     "name": "stdout",
     "output_type": "stream",
     "text": [
      "{'six', 'three'}\n"
     ]
    }
   ],
   "source": [
    "# If you want to get all non-duplicate matches (disregarding order):\n",
    "matches3 = {word for word in lista if word in sentence}\n",
    "print(matches3)"
   ]
  },
  {
   "cell_type": "code",
   "execution_count": 75,
   "metadata": {},
   "outputs": [],
   "source": [
    "def find_match(lista, sentence):\n",
    "    matches = [word for word in lista if word in sentence]\n",
    "    return(matches)"
   ]
  },
  {
   "cell_type": "code",
   "execution_count": 76,
   "metadata": {},
   "outputs": [
    {
     "data": {
      "text/plain": [
       "['six', 'three']"
      ]
     },
     "execution_count": 76,
     "metadata": {},
     "output_type": "execute_result"
    }
   ],
   "source": [
    "find_match(lista, sentence)"
   ]
  },
  {
   "cell_type": "code",
   "execution_count": null,
   "metadata": {},
   "outputs": [],
   "source": []
  }
 ],
 "metadata": {
  "kernelspec": {
   "display_name": "Python 3",
   "language": "python",
   "name": "python3"
  },
  "language_info": {
   "codemirror_mode": {
    "name": "ipython",
    "version": 3
   },
   "file_extension": ".py",
   "mimetype": "text/x-python",
   "name": "python",
   "nbconvert_exporter": "python",
   "pygments_lexer": "ipython3",
   "version": "3.6.4"
  }
 },
 "nbformat": 4,
 "nbformat_minor": 2
}
