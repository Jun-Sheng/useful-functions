{
 "cells": [
  {
   "cell_type": "markdown",
   "metadata": {},
   "source": [
    "# Search Function"
   ]
  },
  {
   "cell_type": "code",
   "execution_count": 8,
   "metadata": {},
   "outputs": [
    {
     "name": "stdout",
     "output_type": "stream",
     "text": [
      "some of the strings found in sentence\n"
     ]
    }
   ],
   "source": [
    "# https://stackoverflow.com/questions/3389574/check-if-multiple-strings-exist-in-another-string\n",
    "lista = ['four', 'five', 'six', 'three', 'six']\n",
    "listb = ['nothing']\n",
    "\n",
    "sentence = 'some onelong two phrase three three sixes six'\n",
    "\n",
    "if any(word in sentence for word in lista):\n",
    "    print(\"some of the strings found in sentence\")\n",
    "else:\n",
    "    print(\"no strings found in sentence\")"
   ]
  },
  {
   "cell_type": "code",
   "execution_count": 9,
   "metadata": {},
   "outputs": [
    {
     "data": {
      "text/plain": [
       "'six'"
      ]
     },
     "execution_count": 9,
     "metadata": {},
     "output_type": "execute_result"
    }
   ],
   "source": [
    "# If you want the first match (with False as a default):\n",
    "match = next((word for word in lista if word in sentence), False)\n",
    "match"
   ]
  },
  {
   "cell_type": "code",
   "execution_count": 10,
   "metadata": {},
   "outputs": [
    {
     "name": "stdout",
     "output_type": "stream",
     "text": [
      "['six', 'three', 'six']\n",
      "[]\n"
     ]
    }
   ],
   "source": [
    "# If you want to get all matches (including duplicates):\n",
    "matches = [word for word in lista if word in sentence]\n",
    "print(matches)\n",
    "\n",
    "matches2 = [word for word in listb if word in sentence]\n",
    "print(matches2)"
   ]
  },
  {
   "cell_type": "code",
   "execution_count": 14,
   "metadata": {},
   "outputs": [],
   "source": [
    "def find_match(lista, sentence):\n",
    "    matches = [word for word in lista if word in sentence]\n",
    "    return(matches)"
   ]
  },
  {
   "cell_type": "code",
   "execution_count": 15,
   "metadata": {},
   "outputs": [
    {
     "data": {
      "text/plain": [
       "['six', 'three', 'six']"
      ]
     },
     "execution_count": 15,
     "metadata": {},
     "output_type": "execute_result"
    }
   ],
   "source": [
    "find_match(lista, sentence)"
   ]
  }
 ],
 "metadata": {
  "kernelspec": {
   "display_name": "Python 3",
   "language": "python",
   "name": "python3"
  },
  "language_info": {
   "codemirror_mode": {
    "name": "ipython",
    "version": 3
   },
   "file_extension": ".py",
   "mimetype": "text/x-python",
   "name": "python",
   "nbconvert_exporter": "python",
   "pygments_lexer": "ipython3",
   "version": "3.7.6"
  }
 },
 "nbformat": 4,
 "nbformat_minor": 4
}
